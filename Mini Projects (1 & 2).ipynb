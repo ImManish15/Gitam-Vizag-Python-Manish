{
 "cells": [
  {
   "cell_type": "markdown",
   "metadata": {},
   "source": [
    "# <h1 align= 'center'>Mini Project on IPL Data-set</h1></font>\n",
    "## Probelm Statement\n",
    "#### 1 .Display the count of matches based on the year wise\n",
    "#### Description of the problem\n",
    "- Download and import the packages to read the data file using pandas.\n",
    "- The groupby method is used to retrieve data of year wise matches.\n",
    "- count() is used to count the number of matches which are grouped."
   ]
  },
  {
   "cell_type": "code",
   "execution_count": 106,
   "metadata": {},
   "outputs": [
    {
     "data": {
      "text/html": [
       "<div>\n",
       "<style scoped>\n",
       "    .dataframe tbody tr th:only-of-type {\n",
       "        vertical-align: middle;\n",
       "    }\n",
       "\n",
       "    .dataframe tbody tr th {\n",
       "        vertical-align: top;\n",
       "    }\n",
       "\n",
       "    .dataframe thead th {\n",
       "        text-align: right;\n",
       "    }\n",
       "</style>\n",
       "<table border=\"1\" class=\"dataframe\">\n",
       "  <thead>\n",
       "    <tr style=\"text-align: right;\">\n",
       "      <th></th>\n",
       "      <th>Match_SK</th>\n",
       "    </tr>\n",
       "    <tr>\n",
       "      <th>Season_Year</th>\n",
       "      <th></th>\n",
       "    </tr>\n",
       "  </thead>\n",
       "  <tbody>\n",
       "    <tr>\n",
       "      <th>2008</th>\n",
       "      <td>58</td>\n",
       "    </tr>\n",
       "    <tr>\n",
       "      <th>2009</th>\n",
       "      <td>57</td>\n",
       "    </tr>\n",
       "    <tr>\n",
       "      <th>2010</th>\n",
       "      <td>60</td>\n",
       "    </tr>\n",
       "    <tr>\n",
       "      <th>2011</th>\n",
       "      <td>73</td>\n",
       "    </tr>\n",
       "    <tr>\n",
       "      <th>2012</th>\n",
       "      <td>74</td>\n",
       "    </tr>\n",
       "    <tr>\n",
       "      <th>2013</th>\n",
       "      <td>76</td>\n",
       "    </tr>\n",
       "    <tr>\n",
       "      <th>2014</th>\n",
       "      <td>60</td>\n",
       "    </tr>\n",
       "    <tr>\n",
       "      <th>2015</th>\n",
       "      <td>59</td>\n",
       "    </tr>\n",
       "    <tr>\n",
       "      <th>2016</th>\n",
       "      <td>60</td>\n",
       "    </tr>\n",
       "    <tr>\n",
       "      <th>2017</th>\n",
       "      <td>60</td>\n",
       "    </tr>\n",
       "  </tbody>\n",
       "</table>\n",
       "</div>"
      ],
      "text/plain": [
       "             Match_SK\n",
       "Season_Year          \n",
       "2008               58\n",
       "2009               57\n",
       "2010               60\n",
       "2011               73\n",
       "2012               74\n",
       "2013               76\n",
       "2014               60\n",
       "2015               59\n",
       "2016               60\n",
       "2017               60"
      ]
     },
     "execution_count": 106,
     "metadata": {},
     "output_type": "execute_result"
    }
   ],
   "source": [
    "import pandas as pd\n",
    "filePath ='DataFiles/Match.csv'\n",
    "def readCsvData(filePath):\n",
    "    return pd.read_csv(filePath)\n",
    "df=readCsvData(filePath)\n",
    "df1=df.groupby('Season_Year')['Match_SK'].count()\n",
    "pd.DataFrame(df1)"
   ]
  },
  {
   "cell_type": "markdown",
   "metadata": {},
   "source": [
    "## Probelm Statement\n",
    "#### 2. Plot a bar graph no. of matches won by each team in the year 2011\n",
    "#### Description of the problem\n",
    "- We create a Dataframe df1 to filter the data as required.\n",
    "- Then the dataframe is grouped by the match winner and Match numbers\n",
    "- All the teams participating is retrieved using the unique() method from df1 Team1 column.\n",
    "- Indexing is given based on these unique teams of 2011\n",
    "- After indexing the bar graph method in plt is used by providing the above data as its arguments."
   ]
  },
  {
   "cell_type": "code",
   "execution_count": 123,
   "metadata": {},
   "outputs": [
    {
     "data": {
      "text/plain": [
       "<BarContainer object of 10 artists>"
      ]
     },
     "execution_count": 123,
     "metadata": {},
     "output_type": "execute_result"
    },
    {
     "data": {
      "image/png": "[encoded data removed]",
      "text/plain": [
       "<Figure size 432x288 with 1 Axes>"
      ]
     },
     "metadata": {
      "needs_background": "light"
     },
     "output_type": "display_data"
    }
   ],
   "source": [
    "import matplotlib.pyplot as plt\n",
    "import numpy as np\n",
    "import pandas as pd\n",
    "df1=pd.DataFrame(df[df['Season_Year'].isin(['2011'])])\n",
    "wins = (df1.groupby('match_winner')['Match_SK'].count())\n",
    "teams = df1.Team1.unique()\n",
    "index = np.arange(len(teams))\n",
    "width=0.3\n",
    "plt.barh(teams,wins,color =\"black\")"
   ]
  },
  {
   "cell_type": "markdown",
   "metadata": {},
   "source": [
    "## Problem Statement\n",
    "#### 3. Print ManOfMatch count of each player in Hyderabad stadium\n",
    "#### Description of the problem\n",
    "- We first find the matches with the venue Hyderabad\n",
    "- Now using the df1 we group the Man Of Match by the Match Number\n",
    "- count() is used to find how many times the same player has received MoM."
   ]
  },
  {
   "cell_type": "code",
   "execution_count": 111,
   "metadata": {},
   "outputs": [
    {
     "data": {
      "text/html": [
       "<div>\n",
       "<style scoped>\n",
       "    .dataframe tbody tr th:only-of-type {\n",
       "        vertical-align: middle;\n",
       "    }\n",
       "\n",
       "    .dataframe tbody tr th {\n",
       "        vertical-align: top;\n",
       "    }\n",
       "\n",
       "    .dataframe thead th {\n",
       "        text-align: right;\n",
       "    }\n",
       "</style>\n",
       "<table border=\"1\" class=\"dataframe\">\n",
       "  <thead>\n",
       "    <tr style=\"text-align: right;\">\n",
       "      <th></th>\n",
       "      <th>Match_SK</th>\n",
       "    </tr>\n",
       "    <tr>\n",
       "      <th>ManOfMach</th>\n",
       "      <th></th>\n",
       "    </tr>\n",
       "  </thead>\n",
       "  <tbody>\n",
       "    <tr>\n",
       "      <th>A Mishra</th>\n",
       "      <td>2</td>\n",
       "    </tr>\n",
       "    <tr>\n",
       "      <th>AB Dinda</th>\n",
       "      <td>1</td>\n",
       "    </tr>\n",
       "    <tr>\n",
       "      <th>AT Rayudu</th>\n",
       "      <td>1</td>\n",
       "    </tr>\n",
       "    <tr>\n",
       "      <th>B Kumar</th>\n",
       "      <td>1</td>\n",
       "    </tr>\n",
       "    <tr>\n",
       "      <th>CH Morris</th>\n",
       "      <td>1</td>\n",
       "    </tr>\n",
       "    <tr>\n",
       "      <th>DA Warner</th>\n",
       "      <td>6</td>\n",
       "    </tr>\n",
       "    <tr>\n",
       "      <th>DJ Bravo</th>\n",
       "      <td>1</td>\n",
       "    </tr>\n",
       "    <tr>\n",
       "      <th>DJG Sammy</th>\n",
       "      <td>1</td>\n",
       "    </tr>\n",
       "    <tr>\n",
       "      <th>DW Steyn</th>\n",
       "      <td>3</td>\n",
       "    </tr>\n",
       "    <tr>\n",
       "      <th>G Gambhir</th>\n",
       "      <td>1</td>\n",
       "    </tr>\n",
       "    <tr>\n",
       "      <th>GH Vihari</th>\n",
       "      <td>2</td>\n",
       "    </tr>\n",
       "    <tr>\n",
       "      <th>I Sharma</th>\n",
       "      <td>1</td>\n",
       "    </tr>\n",
       "    <tr>\n",
       "      <th>MJ McClenaghan</th>\n",
       "      <td>1</td>\n",
       "    </tr>\n",
       "    <tr>\n",
       "      <th>MR Marsh</th>\n",
       "      <td>1</td>\n",
       "    </tr>\n",
       "    <tr>\n",
       "      <th>Mandeep Singh</th>\n",
       "      <td>1</td>\n",
       "    </tr>\n",
       "    <tr>\n",
       "      <th>Mustafizur Rahman</th>\n",
       "      <td>1</td>\n",
       "    </tr>\n",
       "    <tr>\n",
       "      <th>PA Patel</th>\n",
       "      <td>1</td>\n",
       "    </tr>\n",
       "    <tr>\n",
       "      <th>PC Valthaty</th>\n",
       "      <td>1</td>\n",
       "    </tr>\n",
       "    <tr>\n",
       "      <th>R Vinay Kumar</th>\n",
       "      <td>1</td>\n",
       "    </tr>\n",
       "    <tr>\n",
       "      <th>SC Ganguly</th>\n",
       "      <td>1</td>\n",
       "    </tr>\n",
       "    <tr>\n",
       "      <th>SE Marsh</th>\n",
       "      <td>1</td>\n",
       "    </tr>\n",
       "    <tr>\n",
       "      <th>SK Raina</th>\n",
       "      <td>2</td>\n",
       "    </tr>\n",
       "    <tr>\n",
       "      <th>SK Trivedi</th>\n",
       "      <td>1</td>\n",
       "    </tr>\n",
       "    <tr>\n",
       "      <th>SL Malinga</th>\n",
       "      <td>1</td>\n",
       "    </tr>\n",
       "    <tr>\n",
       "      <th>UT Yadav</th>\n",
       "      <td>1</td>\n",
       "    </tr>\n",
       "    <tr>\n",
       "      <th>V Kohli</th>\n",
       "      <td>1</td>\n",
       "    </tr>\n",
       "    <tr>\n",
       "      <th>V Sehwag</th>\n",
       "      <td>2</td>\n",
       "    </tr>\n",
       "    <tr>\n",
       "      <th>WP Saha</th>\n",
       "      <td>1</td>\n",
       "    </tr>\n",
       "    <tr>\n",
       "      <th>YK Pathan</th>\n",
       "      <td>2</td>\n",
       "    </tr>\n",
       "  </tbody>\n",
       "</table>\n",
       "</div>"
      ],
      "text/plain": [
       "                   Match_SK\n",
       "ManOfMach                  \n",
       "A Mishra                  2\n",
       "AB Dinda                  1\n",
       "AT Rayudu                 1\n",
       "B Kumar                   1\n",
       "CH Morris                 1\n",
       "DA Warner                 6\n",
       "DJ Bravo                  1\n",
       "DJG Sammy                 1\n",
       "DW Steyn                  3\n",
       "G Gambhir                 1\n",
       "GH Vihari                 2\n",
       "I Sharma                  1\n",
       "MJ McClenaghan            1\n",
       "MR Marsh                  1\n",
       "Mandeep Singh             1\n",
       "Mustafizur Rahman         1\n",
       "PA Patel                  1\n",
       "PC Valthaty               1\n",
       "R Vinay Kumar             1\n",
       "SC Ganguly                1\n",
       "SE Marsh                  1\n",
       "SK Raina                  2\n",
       "SK Trivedi                1\n",
       "SL Malinga                1\n",
       "UT Yadav                  1\n",
       "V Kohli                   1\n",
       "V Sehwag                  2\n",
       "WP Saha                   1\n",
       "YK Pathan                 2"
      ]
     },
     "execution_count": 111,
     "metadata": {},
     "output_type": "execute_result"
    }
   ],
   "source": [
    "df1=pd.DataFrame(df[df['City_Name'].isin(['Hyderabad'])])\n",
    "pd.DataFrame(df1.groupby('ManOfMach')['Match_SK'].count())"
   ]
  },
  {
   "cell_type": "markdown",
   "metadata": {},
   "source": [
    "# <h1 align= 'center'>Project on Appstore Data-set</h1></font>\n",
    "## Probelm Statement\n",
    "#### 1.Calculate the average rating of Gaming and Non-Gaming apps \n",
    "#### Description of the problem\n",
    "- Import the packages and read the file using the pandas library\n",
    "- Retrieve the column user rating values using the genre that is required.\n",
    "- Find the mean values of the different genre that are required."
   ]
  },
  {
   "cell_type": "code",
   "execution_count": 125,
   "metadata": {},
   "outputs": [
    {
     "name": "stdout",
     "output_type": "stream",
     "text": [
      "Average user rating for Gaming apps: 3.69\n",
      "Average user rating for non-Gaming apps: 3.34\n"
     ]
    }
   ],
   "source": [
    "import pandas as pd\n",
    "filePath ='DataFiles/AppleStore.csv'\n",
    "def readCsvData(filePath):\n",
    "    return pd.read_csv(filePath)\n",
    "df=readCsvData(filePath)\n",
    "\n",
    "data= df['user_rating'][df['prime_genre']=='Games'].mean()\n",
    "data1= df['user_rating'][df['prime_genre']!='Games'].mean()\n",
    "\n",
    "print(\"Average user rating for Gaming apps: {0:.2f}\".format(data))\n",
    "print(\"Average user rating for non-Gaming apps: {0:.2f}\".format(data1))"
   ]
  },
  {
   "cell_type": "markdown",
   "metadata": {},
   "source": [
    "## Probelm Statement\n",
    "#### 1. Draw Pie plot based on labels as  below Price category and values as count of each category apps labels:\n",
    "- Price = 0  - Free apps\n",
    "- Price < 20 - Affordable apps\n",
    "- Price < 50 - Expensive apps\n",
    "- Price > 50 - Very expensive\n",
    "#### Description of the problem\n",
    "- Calculate the number of apps that fall under the respective categories.\n",
    "- This is done using the len() and the data from the dataframe.\n",
    "- Then we store the values of these in a list and also their respective labels in another.\n",
    "- We then use these labels and values as arguments in the pie() method.\n",
    "- plt.show() is used to display the created PIE CHART."
   ]
  },
  {
   "cell_type": "code",
   "execution_count": 161,
   "metadata": {},
   "outputs": [
    {
     "data": {
      "image/png": "[encoded data removed]",
      "text/plain": [
       "<Figure size 432x288 with 1 Axes>"
      ]
     },
     "metadata": {},
     "output_type": "display_data"
    }
   ],
   "source": [
    "free=len(df[df['price']==0])\n",
    "aff=len(df[(df['price']<20) & (df['price']>0)])\n",
    "exp=len(df[(df['price']<50) & (df['price']>=20)])\n",
    "vexp=len(df[df['price']>100])  \n",
    "price=['Free','Expensive','Affordable','Very Expensive']\n",
    "li=[free,exp,aff,vexp]\n",
    "plt.pie(li,labels = price,shadow=True,startangle=90,autopct='%1.2f%%')\n",
    "plt.legend(loc='best')\n",
    "plt.show()"
   ]
  }
 ],
 "metadata": {
  "kernelspec": {
   "display_name": "Python 3",
   "language": "python",
   "name": "python3"
  },
  "language_info": {
   "codemirror_mode": {
    "name": "ipython",
    "version": 3
   },
   "file_extension": ".py",
   "mimetype": "text/x-python",
   "name": "python",
   "nbconvert_exporter": "python",
   "pygments_lexer": "ipython3",
   "version": "3.7.3"
  }
 },
 "nbformat": 4,
 "nbformat_minor": 2
}
