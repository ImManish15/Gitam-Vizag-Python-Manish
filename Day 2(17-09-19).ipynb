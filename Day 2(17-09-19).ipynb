{
 "cells": [
  {
   "cell_type": "markdown",
   "metadata": {},
   "source": [
    "year = int(input(''))\n",
    "if year % 400==0 or (year %100 !=0 and year % 4 ==0):\n",
    "    print(\"Leap  Year\")\n",
    "else:\n",
    "    print(\"Not a leap year\")"
   ]
  },
  {
   "cell_type": "code",
   "execution_count": 6,
   "metadata": {},
   "outputs": [
    {
     "name": "stdout",
     "output_type": "stream",
     "text": [
      "Enter a number: 10\n",
      "1 2 3 4 5 6 7 8 9 10 "
     ]
    }
   ],
   "source": [
    "n= int(input(\"Enter a number: \"))\n",
    "i=1\n",
    "while i<=n:\n",
    "    print(i,end=' ')\n",
    "    i=i+1\n",
    "    "
   ]
  },
  {
   "cell_type": "code",
   "execution_count": 12,
   "metadata": {},
   "outputs": [
    {
     "name": "stdout",
     "output_type": "stream",
     "text": [
      "Enter a number: 10\n",
      "2 4 6 8 10 \n",
      "30\n"
     ]
    }
   ],
   "source": [
    "n = int(input(\"Enter a number: \"))\n",
    "i=1\n",
    "s=0\n",
    "while i<=n:\n",
    "    if i%2 == 0:\n",
    "        print(i,end=' ')\n",
    "        s = s+i\n",
    "    i=i+1\n",
    "print()\n",
    "print(s)"
   ]
  },
  {
   "cell_type": "code",
   "execution_count": 14,
   "metadata": {},
   "outputs": [
    {
     "name": "stdout",
     "output_type": "stream",
     "text": [
      "123\n",
      "3 2 1 "
     ]
    }
   ],
   "source": [
    "n = int(input())\n",
    "while n!=0:\n",
    "    print(n%10,end=' ')\n",
    "    n=n//10"
   ]
  },
  {
   "cell_type": "code",
   "execution_count": 2,
   "metadata": {},
   "outputs": [
    {
     "name": "stdout",
     "output_type": "stream",
     "text": [
      "1234\n",
      "6\n"
     ]
    }
   ],
   "source": [
    "def evenSum(n):\n",
    "    s=0\n",
    "    while(n!=0):\n",
    "        r=n%10\n",
    "        if r%2 == 0:\n",
    "            s=s+r\n",
    "        n = n//10\n",
    "    return s\n",
    "n= int(input())\n",
    "print(evenSum(n))\n"
   ]
  },
  {
   "cell_type": "code",
   "execution_count": 6,
   "metadata": {},
   "outputs": [
    {
     "data": {
      "text/plain": [
       "9"
      ]
     },
     "execution_count": 6,
     "metadata": {},
     "output_type": "execute_result"
    }
   ],
   "source": [
    "def largest(n):\n",
    "    i=0\n",
    "    max=n%10\n",
    "    while(n!=0):\n",
    "        r=n%10\n",
    "        if r>max:\n",
    "            max=r\n",
    "        n=n//10\n",
    "    return max\n",
    "largest(123456789)"
   ]
  },
  {
   "cell_type": "code",
   "execution_count": 26,
   "metadata": {},
   "outputs": [
    {
     "name": "stdout",
     "output_type": "stream",
     "text": [
      "145\n",
      "145\n"
     ]
    },
    {
     "data": {
      "text/plain": [
       "'Yes'"
      ]
     },
     "execution_count": 26,
     "metadata": {},
     "output_type": "execute_result"
    }
   ],
   "source": [
    "def factsum(n):\n",
    "    s=0\n",
    "    buffer=n\n",
    "    while(n!=0):\n",
    "        r=n%10\n",
    "        f=1\n",
    "        for j in range(1,r+1):\n",
    "            f=f*j\n",
    "        s=s+f\n",
    "        n= n//10\n",
    "    print(s)\n",
    "    if buffer==s:\n",
    "        return 'Yes'\n",
    "    else:\n",
    "        return 'No'\n",
    "n=int(input())\n",
    "factsum(n)"
   ]
  },
  {
   "cell_type": "code",
   "execution_count": 2,
   "metadata": {},
   "outputs": [
    {
     "name": "stdout",
     "output_type": "stream",
     "text": [
      "1234\n"
     ]
    },
    {
     "data": {
      "text/plain": [
       "'Not a Palindrome'"
      ]
     },
     "execution_count": 2,
     "metadata": {},
     "output_type": "execute_result"
    }
   ],
   "source": [
    "def isPalindrome(n):\n",
    "    p=0\n",
    "    buffer=n\n",
    "    while(n!=0):\n",
    "        r=n%10\n",
    "        p=p*10+r\n",
    "        n=n//10\n",
    "    if buffer==p:\n",
    "        return \"Palidrome\"\n",
    "    else:\n",
    "        return \"Not a Palindrome\"\n",
    "n=int(input())\n",
    "isPalindrome(n)"
   ]
  },
  {
   "cell_type": "code",
   "execution_count": 11,
   "metadata": {},
   "outputs": [
    {
     "name": "stdout",
     "output_type": "stream",
     "text": [
      "100 102 104 106 108 110 112 114 116 118 120 122 124 126 128 130 132 134 136 138 140 142 144 146 148 150 152 154 156 158 160 162 164 166 168 170 172 174 176 178 180 182 \n",
      "100 105 110 115 120 125 130 135 140 145 150 155 160 165 170 175 180 "
     ]
    }
   ],
   "source": [
    "def alternate(lb,ub):\n",
    "    for i in range(lb,ub+1,2):\n",
    "        print(i,end=' ')\n",
    "    print()\n",
    "    for i in range(lb,ub+1,5):\n",
    "        print(i,end=' ')\n",
    "    return\n",
    "alternate(100,182)\n",
    "        "
   ]
  },
  {
   "cell_type": "markdown",
   "metadata": {},
   "source": [
    "### Practice Questions!"
   ]
  },
  {
   "cell_type": "code",
   "execution_count": 17,
   "metadata": {},
   "outputs": [
    {
     "name": "stdout",
     "output_type": "stream",
     "text": [
      "1 2 3 6 \n",
      "1 2 3 4 6 12 \n"
     ]
    }
   ],
   "source": [
    "def factors(n):\n",
    "    i=0\n",
    "    for i in range(1,n+1):\n",
    "        if n%i==0:\n",
    "            print(i,end=' ')\n",
    "    print()\n",
    "    return\n",
    "factors(6)\n",
    "factors(12)"
   ]
  },
  {
   "cell_type": "code",
   "execution_count": 27,
   "metadata": {},
   "outputs": [
    {
     "name": "stdout",
     "output_type": "stream",
     "text": [
      "True\n",
      "False\n",
      "True\n"
     ]
    }
   ],
   "source": [
    "def prime(n):\n",
    "    i=0\n",
    "    count=0 \n",
    "    for i in range(1,n+1):\n",
    "        if n%i==0:\n",
    "            count+=1\n",
    "    if count==2:\n",
    "        print(\"True\")\n",
    "    if count>2:\n",
    "        print(\"False\")\n",
    "    return\n",
    "prime(11)\n",
    "prime(10)\n",
    "prime(37)"
   ]
  },
  {
   "cell_type": "code",
   "execution_count": 14,
   "metadata": {},
   "outputs": [
    {
     "data": {
      "text/plain": [
       "4"
      ]
     },
     "execution_count": 14,
     "metadata": {},
     "output_type": "execute_result"
    }
   ],
   "source": [
    "def isPrime(n):\n",
    "    for i in range(2,n):\n",
    "        if n%i==0:\n",
    "            return 'False'  \n",
    "        else:\n",
    "            return 'True'\n",
    "def countPrime(n):\n",
    "    c=0\n",
    "    for i in range(2,n+1):\n",
    "        if isPrime(i)=='True':\n",
    "            c+=1\n",
    "    return c\n",
    "countPrime(10)"
   ]
  },
  {
   "cell_type": "code",
   "execution_count": 20,
   "metadata": {},
   "outputs": [
    {
     "data": {
      "text/plain": [
       "9"
      ]
     },
     "execution_count": 20,
     "metadata": {},
     "output_type": "execute_result"
    }
   ],
   "source": [
    "def isPalin(n):\n",
    "    p=0\n",
    "    buffer=n\n",
    "    while(n!=0):\n",
    "        r=n%10\n",
    "        p=p*10+r\n",
    "        n=n//10\n",
    "    if buffer==p:\n",
    "        return \"True\"\n",
    "    else:\n",
    "        return \"False\"\n",
    "def countPalin(a,b):\n",
    "    c=0\n",
    "    for i in range(a,b+1):\n",
    "        if isPalin(i)=='True':\n",
    "            c=c+1\n",
    "    return c\n",
    "countPalin(10,100)"
   ]
  },
  {
   "cell_type": "code",
   "execution_count": 25,
   "metadata": {},
   "outputs": [
    {
     "data": {
      "text/plain": [
       "3"
      ]
     },
     "execution_count": 25,
     "metadata": {},
     "output_type": "execute_result"
    }
   ],
   "source": [
    "def checkNum(n):\n",
    "    c=0\n",
    "    while n!=0:\n",
    "        r=n%10\n",
    "        if(r==4 or r==6 or r==0 or r==9):\n",
    "            c=c+1\n",
    "        if(r==8):\n",
    "            c=c+2\n",
    "        n=n//10\n",
    "    return c\n",
    "checkNum(12854)"
   ]
  }
 ],
 "metadata": {
  "kernelspec": {
   "display_name": "Python 3",
   "language": "python",
   "name": "python3"
  },
  "language_info": {
   "codemirror_mode": {
    "name": "ipython",
    "version": 3
   },
   "file_extension": ".py",
   "mimetype": "text/x-python",
   "name": "python",
   "nbconvert_exporter": "python",
   "pygments_lexer": "ipython3",
   "version": "3.7.3"
  }
 },
 "nbformat": 4,
 "nbformat_minor": 2
}
