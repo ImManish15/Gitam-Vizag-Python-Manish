{
 "cells": [
  {
   "cell_type": "markdown",
   "metadata": {},
   "source": [
    "# Python Programming and Markdown\n",
    "## Python Programming and Markdown\n",
    "### Python Programming and Markdown\n",
    "#### Python Programming and Markdown\n",
    "##### Python Programming and Markdown\n",
    "\n",
    "### Python Programming\n",
    "- Point 1\n",
    "  - Point 1.1\n",
    "- Point 2\n",
    "  - Point 2.1\n",
    "- Point 3\n",
    "* **Point 1**\n",
    "* ***Point 1***"
   ]
  },
  {
   "cell_type": "code",
   "execution_count": 1,
   "metadata": {},
   "outputs": [
    {
     "name": "stdout",
     "output_type": "stream",
     "text": [
      "Hello Gitam\n"
     ]
    }
   ],
   "source": [
    "print('Hello Gitam')"
   ]
  },
  {
   "cell_type": "code",
   "execution_count": 3,
   "metadata": {},
   "outputs": [
    {
     "name": "stdout",
     "output_type": "stream",
     "text": [
      "Hello Gitam ||| Vizag\n"
     ]
    }
   ],
   "source": [
    "print('Hello Gitam','|||',end=' ')\n",
    "print('Vizag')"
   ]
  },
  {
   "cell_type": "code",
   "execution_count": 16,
   "metadata": {},
   "outputs": [
    {
     "name": "stdout",
     "output_type": "stream",
     "text": [
      "100 Python Programming\n",
      "a 1000000000000000000\n",
      "16.32334732\n",
      "<class 'str'>\n",
      "<class 'int'>\n",
      "<class 'float'>\n"
     ]
    }
   ],
   "source": [
    "a1=100\n",
    "a2=1000000000000000000\n",
    "a3=16.32334732\n",
    "s1='Python Programming'\n",
    "s2='a'\n",
    "print(a1,s1)\n",
    "print(s2,a2)\n",
    "print(a3)\n",
    "print(type(s2))\n",
    "print(type(a2))\n",
    "print(type(a3))"
   ]
  },
  {
   "cell_type": "code",
   "execution_count": 19,
   "metadata": {},
   "outputs": [
    {
     "name": "stdout",
     "output_type": "stream",
     "text": [
      "100 100 <class 'str'>\n"
     ]
    }
   ],
   "source": [
    "a=100\n",
    "print(a,end=\" \")\n",
    "s1=str(a)\n",
    "print(s1,end=\" \")\n",
    "print(type(s1))"
   ]
  },
  {
   "cell_type": "code",
   "execution_count": 28,
   "metadata": {},
   "outputs": [
    {
     "name": "stdout",
     "output_type": "stream",
     "text": [
      "4\n",
      "7\n"
     ]
    }
   ],
   "source": [
    "a=1234\n",
    "print(len(str(a)))\n",
    "b='12.3.45'\n",
    "print(len(str(b)))"
   ]
  },
  {
   "cell_type": "code",
   "execution_count": 3,
   "metadata": {},
   "outputs": [
    {
     "name": "stdout",
     "output_type": "stream",
     "text": [
      "Enter Your Name: Manish\n",
      "Manish\n",
      "Enter age: 20\n",
      "20\n"
     ]
    }
   ],
   "source": [
    "s1=input('Enter Your Name: ')\n",
    "print(s1)\n",
    "age=int(input('Enter age: '))\n",
    "print(age)"
   ]
  },
  {
   "cell_type": "code",
   "execution_count": 5,
   "metadata": {},
   "outputs": [
    {
     "name": "stdout",
     "output_type": "stream",
     "text": [
      "3.3333333333333335\n",
      "3\n",
      "16\n"
     ]
    }
   ],
   "source": [
    "print(10/3)\n",
    "print(10//3)\n",
    "print(2**4)"
   ]
  },
  {
   "cell_type": "code",
   "execution_count": 8,
   "metadata": {},
   "outputs": [
    {
     "name": "stdout",
     "output_type": "stream",
     "text": [
      "8.0\n"
     ]
    }
   ],
   "source": [
    "#Power > Multiplication > Division > Addition > Subtraction\n",
    "x=1+2**3/4+5\n",
    "print(x)"
   ]
  },
  {
   "cell_type": "markdown",
   "metadata": {},
   "source": [
    "## Logical Operators\n",
    "- And\n",
    "- Or\n",
    "- Not"
   ]
  },
  {
   "cell_type": "code",
   "execution_count": 11,
   "metadata": {},
   "outputs": [
    {
     "name": "stdout",
     "output_type": "stream",
     "text": [
      "True <class 'bool'>\n",
      "False <class 'bool'>\n"
     ]
    }
   ],
   "source": [
    "a=10\n",
    "b= (a > 9) and (a >= 10)\n",
    "print(b,type(b))\n",
    "b= (a < 9) and (a < 10)\n",
    "print(b,type(b))"
   ]
  },
  {
   "cell_type": "markdown",
   "metadata": {},
   "source": [
    "## Control flow statements\n",
    "- Conditional Statements\n",
    "   - if-else\n",
    "- Looping Statements\n",
    "   - while\n",
    "   - for"
   ]
  },
  {
   "cell_type": "code",
   "execution_count": 2,
   "metadata": {},
   "outputs": [
    {
     "name": "stdout",
     "output_type": "stream",
     "text": [
      "19\n",
      "Odd\n"
     ]
    }
   ],
   "source": [
    "# Read a number as input.\n",
    "a1 = int(input())\n",
    "if a1 % 2 == 0:\n",
    "    print('Even')\n",
    "else:\n",
    "    print('Odd')"
   ]
  }
 ],
 "metadata": {
  "kernelspec": {
   "display_name": "Python 3",
   "language": "python",
   "name": "python3"
  },
  "language_info": {
   "codemirror_mode": {
    "name": "ipython",
    "version": 3
   },
   "file_extension": ".py",
   "mimetype": "text/x-python",
   "name": "python",
   "nbconvert_exporter": "python",
   "pygments_lexer": "ipython3",
   "version": "3.7.3"
  }
 },
 "nbformat": 4,
 "nbformat_minor": 2
}
