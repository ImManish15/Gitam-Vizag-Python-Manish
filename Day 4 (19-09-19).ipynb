{
 "cells": [
  {
   "cell_type": "code",
   "execution_count": null,
   "metadata": {},
   "outputs": [],
   "source": []
  },
  {
   "cell_type": "code",
   "execution_count": 1,
   "metadata": {},
   "outputs": [
    {
     "name": "stdout",
     "output_type": "stream",
     "text": [
      "Python-Programming-Made-Easy\n"
     ]
    }
   ],
   "source": [
    "s1=\"Python Programming Made Easy\"\n",
    "print(s1.replace(' ','-'))"
   ]
  },
  {
   "cell_type": "code",
   "execution_count": 2,
   "metadata": {},
   "outputs": [
    {
     "name": "stdout",
     "output_type": "stream",
     "text": [
      "Python Progr@mming M@de E@sy\n"
     ]
    }
   ],
   "source": [
    "s1=\"Python Programming Made Easy\"\n",
    "print(s1.replace('a','@'))"
   ]
  },
  {
   "cell_type": "code",
   "execution_count": 3,
   "metadata": {},
   "outputs": [
    {
     "name": "stdout",
     "output_type": "stream",
     "text": [
      "P y t h o n\n"
     ]
    }
   ],
   "source": [
    "s1= \"Python\"\n",
    "print(\" \".join(s1))"
   ]
  },
  {
   "cell_type": "code",
   "execution_count": 5,
   "metadata": {},
   "outputs": [
    {
     "name": "stdout",
     "output_type": "stream",
     "text": [
      "First: 1 Second: 2 Third: 3 Fourth: 4\n"
     ]
    }
   ],
   "source": [
    "li =[1,2,3,4]\n",
    "print(\"First: {0} Second: {1} Third: {2} Fourth: {3}\".format(li[0],li[1],li[2],li[3]))"
   ]
  },
  {
   "cell_type": "code",
   "execution_count": 10,
   "metadata": {},
   "outputs": [
    {
     "name": "stdout",
     "output_type": "stream",
     "text": [
      "{'Name': 'Gitam', 'EmailId': 'gitam.vizag@gmail.com', 'Address': 'Vizag'}\n"
     ]
    },
    {
     "data": {
      "text/plain": [
       "'gitam.vizag@gmail.com'"
      ]
     },
     "execution_count": 10,
     "metadata": {},
     "output_type": "execute_result"
    }
   ],
   "source": [
    "d1 = {\"Name\":\"Gitam\", \"EmailId\":\"gitam.vizag@gmail.com\", \"Address\":\"Vizag\"}\n",
    "print(d1)\n",
    "d1[\"EmailId\"]\n",
    "#d1[\"emailId\"] - Error "
   ]
  },
  {
   "cell_type": "markdown",
   "metadata": {},
   "source": [
    "### Contact Application\n",
    "- Add Contact Details"
   ]
  },
  {
   "cell_type": "code",
   "execution_count": 13,
   "metadata": {},
   "outputs": [
    {
     "name": "stdout",
     "output_type": "stream",
     "text": [
      "Contact added successfully\n",
      "Contact added successfully\n"
     ]
    }
   ],
   "source": [
    "contacts = {}\n",
    "def addContact(name,number):\n",
    "    if name not in contacts:\n",
    "        contacts[name] = number\n",
    "        print('Contact added successfully')\n",
    "    else:\n",
    "        print('Contact already exists!')\n",
    "    return\n",
    "addContact('Manish','7674887503')\n",
    "addContact('Ajay','9989723832')"
   ]
  },
  {
   "cell_type": "code",
   "execution_count": 25,
   "metadata": {},
   "outputs": [
    {
     "name": "stdout",
     "output_type": "stream",
     "text": [
      "Contact added successfully\n",
      "Contact added successfully\n",
      "Contact already exists!\n",
      "{'Manish': '7674887503', 'Ajay': '9989723832'}\n"
     ]
    }
   ],
   "source": [
    "contacts = {}\n",
    "def addContact(name,number):\n",
    "    if name not in contacts:\n",
    "        contacts[name] = number\n",
    "        print('Contact added successfully')\n",
    "    else:\n",
    "        print('Contact already exists!')\n",
    "    return\n",
    "addContact('Manish','7674887503')\n",
    "addContact('Ajay','9989723832')\n",
    "addContact('Manish','7674887504')\n",
    "print(contacts)"
   ]
  },
  {
   "cell_type": "code",
   "execution_count": 28,
   "metadata": {},
   "outputs": [
    {
     "name": "stdout",
     "output_type": "stream",
     "text": [
      "Manish  :  7674887503\n",
      "Ajay  :  9989723832\n"
     ]
    }
   ],
   "source": [
    "def searchContact(name):\n",
    "    if name in contacts:\n",
    "        print(name,\" : \",contacts[name])\n",
    "    else:\n",
    "        print('{0} does not exist!'.format(name))\n",
    "    return\n",
    "searchContact(\"Manish\")\n",
    "searchContact(\"Ajay\")"
   ]
  },
  {
   "cell_type": "code",
   "execution_count": 34,
   "metadata": {},
   "outputs": [
    {
     "name": "stdout",
     "output_type": "stream",
     "text": [
      "2 Contacts are added\n"
     ]
    }
   ],
   "source": [
    "def importContacts(newContacts):\n",
    "    contacts.update(newContacts)\n",
    "    print(len(newContacts.keys()),'Contacts are added')\n",
    "    return\n",
    "newContacts={'Gitam':9993775739,'Anil':123456789}\n",
    "importContacts(newContacts)"
   ]
  },
  {
   "cell_type": "code",
   "execution_count": 36,
   "metadata": {},
   "outputs": [
    {
     "name": "stdout",
     "output_type": "stream",
     "text": [
      "Ajay Updated Succesfully\n",
      "Does not exist!\n"
     ]
    }
   ],
   "source": [
    "def modifyContact(name,number):\n",
    "    if name in contacts:\n",
    "        contacts[name]= number\n",
    "        print(name,'Updated Succesfully')\n",
    "    else:\n",
    "        print(\"Does not exist!\")\n",
    "    return\n",
    "modifyContact('Ajay',987654321)\n",
    "modifyContact('Naveen',987654321)"
   ]
  },
  {
   "cell_type": "code",
   "execution_count": 37,
   "metadata": {},
   "outputs": [
    {
     "name": "stdout",
     "output_type": "stream",
     "text": [
      "Deleted Succesfully\n"
     ]
    }
   ],
   "source": [
    "def deleteContact(name):\n",
    "    if name in contacts:\n",
    "        del contacts[name]\n",
    "        print('Deleted Succesfully')\n",
    "    else:\n",
    "        print(name,'Does not exist!')\n",
    "    return\n",
    "deleteContact('Ajay')"
   ]
  },
  {
   "cell_type": "markdown",
   "metadata": {},
   "source": [
    "### Standard Libraries\n",
    "- Regular Expressions\n",
    "    - Validation of EmailId\n",
    "    - Validation of Username\n",
    "    - Validation of password\n",
    "- Understanding Regular Expressions"
   ]
  },
  {
   "cell_type": "code",
   "execution_count": 53,
   "metadata": {},
   "outputs": [
    {
     "data": {
      "text/plain": [
       "False"
      ]
     },
     "execution_count": 53,
     "metadata": {},
     "output_type": "execute_result"
    }
   ],
   "source": [
    "import re\n",
    "def twoDigitMatching(n):\n",
    "    pattern = '^[0-9]{2}$'\n",
    "    n = str(n)\n",
    "    if re.match(pattern,n):\n",
    "        return True\n",
    "    return False\n",
    "twoDigitMatching(550)"
   ]
  },
  {
   "cell_type": "markdown",
   "metadata": {},
   "source": [
    "### Validate Phone number"
   ]
  },
  {
   "cell_type": "code",
   "execution_count": 88,
   "metadata": {},
   "outputs": [
    {
     "data": {
      "text/plain": [
       "True"
      ]
     },
     "execution_count": 88,
     "metadata": {},
     "output_type": "execute_result"
    }
   ],
   "source": [
    "import re\n",
    "def  validatePhone(n):\n",
    "    pattern = '^[6-9][0-9]{9}$|^[0][6-9][0-9]{9}$|^[+][9][1][6-9][0-9]{9}$'\n",
    "    n=str(n)\n",
    "    if re.match(pattern,n):\n",
    "        return True\n",
    "    return False\n",
    "validatePhone('7674887503')"
   ]
  },
  {
   "cell_type": "markdown",
   "metadata": {},
   "source": [
    "### Validate Email Id\n",
    "- Example : Usename@domainName.extension\n",
    "- Example : Dsps@gmail.com\n",
    "\n",
    "- Username:\n",
    "    - Len of string is between [6-15]\n",
    "    - No special characters allowed except an underscore\n",
    "    - Username shouldnot begin with an Underscore(_)\n",
    "    - All characters are set digits, lower case and upper case\n",
    "- Domain Name\n",
    "    - Len of string is [3-18]\n",
    "    - No special characters allowed\n",
    "    - Contains digits, Upper case and lower case characters\n",
    "- Extensions\n",
    "    - Len of string will be [2-4]\n",
    "    - No special characters\n",
    "    - Only lower characters are allowed"
   ]
  },
  {
   "cell_type": "code",
   "execution_count": 114,
   "metadata": {},
   "outputs": [
    {
     "data": {
      "text/plain": [
       "True"
      ]
     },
     "execution_count": 114,
     "metadata": {},
     "output_type": "execute_result"
    }
   ],
   "source": []
  },
  {
   "cell_type": "code",
   "execution_count": 115,
   "metadata": {},
   "outputs": [
    {
     "data": {
      "text/plain": [
       "5"
      ]
     },
     "execution_count": 115,
     "metadata": {},
     "output_type": "execute_result"
    }
   ],
   "source": [
    "from math import gcd as gcd\n",
    "gcd(10,15)"
   ]
  },
  {
   "cell_type": "code",
   "execution_count": null,
   "metadata": {},
   "outputs": [],
   "source": []
  }
 ],
 "metadata": {
  "kernelspec": {
   "display_name": "Python 3",
   "language": "python",
   "name": "python3"
  },
  "language_info": {
   "codemirror_mode": {
    "name": "ipython",
    "version": 3
   },
   "file_extension": ".py",
   "mimetype": "text/x-python",
   "name": "python",
   "nbconvert_exporter": "python",
   "pygments_lexer": "ipython3",
   "version": "3.7.3"
  }
 },
 "nbformat": 4,
 "nbformat_minor": 2
}
